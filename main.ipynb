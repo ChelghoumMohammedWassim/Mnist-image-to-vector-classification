{
 "cells": [
  {
   "cell_type": "markdown",
   "id": "92b58ab3",
   "metadata": {},
   "source": [
    "define the predicted number for model creation."
   ]
  },
  {
   "cell_type": "code",
   "execution_count": 1,
   "id": "1049728a",
   "metadata": {},
   "outputs": [],
   "source": [
    "number=2"
   ]
  },
  {
   "cell_type": "markdown",
   "id": "5f257edf",
   "metadata": {},
   "source": [
    "In our program, we need a few libraries:\n",
    "<br>1- Tensorflow: to create a model.\n",
    "<br>2- Matplotlib: to display images in graphical form.\n",
    "<br>3- random: to randomly choose a number.\n",
    "<br>4- Numpy: for the use of matrices."
   ]
  },
  {
   "cell_type": "code",
   "execution_count": 2,
   "id": "2927d501",
   "metadata": {},
   "outputs": [],
   "source": [
    "import tensorflow as tf\n",
    "from tensorflow import keras\n",
    "import matplotlib. pyplot as plt\n",
    "import random as rnd\n",
    "import numpy as np"
   ]
  },
  {
   "cell_type": "markdown",
   "id": "09c3d49c",
   "metadata": {},
   "source": [
    "# Import the data\n",
    "import the database from the library \"tensorflow.keras\""
   ]
  },
  {
   "cell_type": "code",
   "execution_count": 3,
   "id": "30281c98",
   "metadata": {},
   "outputs": [],
   "source": [
    "(X_train,Y_train),(X_test,Y_test)=keras.datasets.mnist.load_data()"
   ]
  },
  {
   "cell_type": "markdown",
   "id": "8b1cebb0",
   "metadata": {},
   "source": [
    "Traverse the lists (X_train and X_test) and check if y is equal to the number defined earlier. If it is true, do nothing; if it is not equal, then it is false."
   ]
  },
  {
   "cell_type": "code",
   "execution_count": 4,
   "id": "db6ee13e",
   "metadata": {},
   "outputs": [],
   "source": [
    "for i in range(len(Y_train)):\n",
    "    if Y_train[i]==number:\n",
    "        Y_train[i]=True\n",
    "    else:\n",
    "        Y_train[i]=False\n",
    "        \n",
    "for i in range(len(Y_test)):\n",
    "    if Y_test[i]==number:\n",
    "        Y_test[i]=True\n",
    "    else:\n",
    "        Y_test[i]=False"
   ]
  },
  {
   "cell_type": "markdown",
   "id": "430d85c4",
   "metadata": {},
   "source": [
    "Displaying the size of the arrays and the dimensions of the images."
   ]
  },
  {
   "cell_type": "code",
   "execution_count": 5,
   "id": "8888d48a",
   "metadata": {},
   "outputs": [
    {
     "name": "stdout",
     "output_type": "stream",
     "text": [
      "shape of x_train (60000, 28, 28)\n",
      "shape of Y_train (60000,)\n",
      "shape of X_test (10000, 28, 28)\n",
      "shape of Y_test (10000,)\n"
     ]
    }
   ],
   "source": [
    "print(\"shape of x_train\",X_train.shape)\n",
    "print(\"shape of Y_train\",Y_train.shape)\n",
    "print(\"shape of X_test\",X_test.shape)\n",
    "print(\"shape of Y_test\",Y_test.shape)"
   ]
  },
  {
   "cell_type": "markdown",
   "id": "d88f3a3a",
   "metadata": {},
   "source": [
    "# Reshaping the data."
   ]
  },
  {
   "cell_type": "markdown",
   "id": "f6f53b01",
   "metadata": {},
   "source": [
    "The function toBinaryMatrix(X) enables eliminating grayscale and replacing it with white if the pixel value is greater than or equal to 127; otherwise, it is replaced by black. Black is represented by 0, and white is represented by 1."
   ]
  },
  {
   "cell_type": "code",
   "execution_count": 6,
   "id": "1901d708",
   "metadata": {},
   "outputs": [],
   "source": [
    "def toBainryMatrix(X):\n",
    "    new_X=[]\n",
    "    for img in X:\n",
    "        newImg=[]\n",
    "        for line in img:\n",
    "            newLine=[]\n",
    "            for pixel in line:\n",
    "                if pixel<127:\n",
    "                    newLine.append(1)\n",
    "                else:\n",
    "                    newLine.append(0)\n",
    "            newImg.append(newLine)\n",
    "        new_X.append(newImg)\n",
    "    return np.array(new_X)"
   ]
  },
  {
   "cell_type": "markdown",
   "id": "a1ad8c79",
   "metadata": {},
   "source": [
    "The function reverseBlackWhite(X) reverses the black and white colors."
   ]
  },
  {
   "cell_type": "code",
   "execution_count": 7,
   "id": "a2d35110",
   "metadata": {},
   "outputs": [],
   "source": [
    "def reverseBlackWhite(X):\n",
    "    new_X=[]\n",
    "    for img in X:\n",
    "        newImg=[]\n",
    "        for line in img:\n",
    "            newLine=[]\n",
    "            for pixel in line:\n",
    "                if pixel==1:\n",
    "                    newLine.append(0)\n",
    "                else:\n",
    "                    newLine.append(1)\n",
    "            newImg.append(newLine)\n",
    "        new_X.append(newImg)\n",
    "    return np.array(new_X)"
   ]
  },
  {
   "cell_type": "markdown",
   "id": "c8774f4e",
   "metadata": {},
   "source": [
    "The function extractSubMatrix(X) divides the matrix into 16 submatrices (4x4). Each submatrix contains 7 rows and 7 columns."
   ]
  },
  {
   "cell_type": "code",
   "execution_count": 8,
   "id": "5cdfa821",
   "metadata": {},
   "outputs": [],
   "source": [
    "def extractSubMatrix(X):\n",
    "    new_X=[]\n",
    "\n",
    "    for img in X:\n",
    "        i=0\n",
    "        step=len(img)/4\n",
    "        newImage=[]\n",
    "        while i<len(img):\n",
    "            end_row=i+step\n",
    "            j=0\n",
    "            while j<len(img):\n",
    "                end_column=j+step\n",
    "                block=img[int(i):int(end_row),int(j):int(end_column)]\n",
    "                j=j+step\n",
    "                newImage.append(block)\n",
    "            i=i+step\n",
    "        newImage=np.array(newImage)\n",
    "        new_X.append(newImage)\n",
    "    new_X=np.array(new_X)\n",
    "    \n",
    "    return new_X"
   ]
  },
  {
   "cell_type": "markdown",
   "id": "11315988",
   "metadata": {},
   "source": [
    "The function imageToVector(X) transforms the images into vectors. The applied treatment is as follows:\n",
    "<br>\n",
    "Replace each submatrix (7x7) with a number between [0, 1], equal to (number of black pixels / total number of pixels)."
   ]
  },
  {
   "cell_type": "code",
   "execution_count": 9,
   "id": "208e0979",
   "metadata": {},
   "outputs": [],
   "source": [
    "def imageToVector(X):\n",
    "    new_X=[]\n",
    "    for img in X:\n",
    "        new_img=[]\n",
    "        for block in img:\n",
    "            blacks=0\n",
    "            for line in block:\n",
    "                for pixel in line:\n",
    "                    if pixel==1:\n",
    "                        blacks=blacks+1\n",
    "            new_img.append(blacks/49)\n",
    "        new_X.append(new_img)\n",
    "    return np.array(new_X)\n",
    "    "
   ]
  },
  {
   "cell_type": "code",
   "execution_count": 10,
   "id": "7fa8b46f",
   "metadata": {},
   "outputs": [],
   "source": [
    "train=toBainryMatrix(X_train)\n",
    "test=toBainryMatrix(X_test)"
   ]
  },
  {
   "cell_type": "code",
   "execution_count": 11,
   "id": "05b7bfd0",
   "metadata": {},
   "outputs": [
    {
     "name": "stdout",
     "output_type": "stream",
     "text": [
      "[[0 0 0 0 0 0 0 0 0 0 0 0 0 0 0 0 0 0 0 0 0 0 0 0 0 0 0 0]\n",
      " [0 0 0 0 0 0 0 0 0 0 0 0 0 0 0 0 0 0 0 0 0 0 0 0 0 0 0 0]\n",
      " [0 0 0 0 0 0 0 0 0 0 0 0 0 0 0 0 0 0 0 0 0 0 0 0 0 0 0 0]\n",
      " [0 0 0 0 0 0 0 0 0 0 0 0 0 0 0 0 0 0 0 0 0 0 0 0 0 0 0 0]\n",
      " [0 0 0 0 0 0 0 0 0 0 0 0 0 0 0 0 0 0 0 0 0 0 0 0 0 0 0 0]\n",
      " [0 0 0 0 0 0 0 0 0 0 0 0 0 0 0 0 0 1 1 0 1 1 1 1 0 0 0 0]\n",
      " [0 0 0 0 0 0 0 0 0 0 0 1 1 1 1 1 1 1 1 1 1 1 1 0 0 0 0 0]\n",
      " [0 0 0 0 0 0 0 0 1 1 1 1 1 1 1 1 1 1 0 0 0 0 0 0 0 0 0 0]\n",
      " [0 0 0 0 0 0 0 0 1 1 1 1 1 1 1 1 1 1 0 0 0 0 0 0 0 0 0 0]\n",
      " [0 0 0 0 0 0 0 0 0 1 0 1 1 1 0 0 0 1 0 0 0 0 0 0 0 0 0 0]\n",
      " [0 0 0 0 0 0 0 0 0 0 0 1 1 0 0 0 0 0 0 0 0 0 0 0 0 0 0 0]\n",
      " [0 0 0 0 0 0 0 0 0 0 0 1 1 1 0 0 0 0 0 0 0 0 0 0 0 0 0 0]\n",
      " [0 0 0 0 0 0 0 0 0 0 0 0 1 1 0 0 0 0 0 0 0 0 0 0 0 0 0 0]\n",
      " [0 0 0 0 0 0 0 0 0 0 0 0 0 1 1 1 0 0 0 0 0 0 0 0 0 0 0 0]\n",
      " [0 0 0 0 0 0 0 0 0 0 0 0 0 0 1 1 1 0 0 0 0 0 0 0 0 0 0 0]\n",
      " [0 0 0 0 0 0 0 0 0 0 0 0 0 0 0 1 1 1 1 0 0 0 0 0 0 0 0 0]\n",
      " [0 0 0 0 0 0 0 0 0 0 0 0 0 0 0 0 0 1 1 1 0 0 0 0 0 0 0 0]\n",
      " [0 0 0 0 0 0 0 0 0 0 0 0 0 0 0 0 0 1 1 1 0 0 0 0 0 0 0 0]\n",
      " [0 0 0 0 0 0 0 0 0 0 0 0 0 0 0 1 1 1 1 1 0 0 0 0 0 0 0 0]\n",
      " [0 0 0 0 0 0 0 0 0 0 0 0 0 1 1 1 1 1 1 1 0 0 0 0 0 0 0 0]\n",
      " [0 0 0 0 0 0 0 0 0 0 0 0 1 1 1 1 1 1 0 0 0 0 0 0 0 0 0 0]\n",
      " [0 0 0 0 0 0 0 0 0 0 1 1 1 1 1 1 0 0 0 0 0 0 0 0 0 0 0 0]\n",
      " [0 0 0 0 0 0 0 1 1 1 1 1 1 1 0 0 0 0 0 0 0 0 0 0 0 0 0 0]\n",
      " [0 0 0 0 0 1 1 1 1 1 1 1 1 0 0 0 0 0 0 0 0 0 0 0 0 0 0 0]\n",
      " [0 0 0 0 1 1 1 1 1 1 1 0 0 0 0 0 0 0 0 0 0 0 0 0 0 0 0 0]\n",
      " [0 0 0 0 0 0 0 0 0 0 0 0 0 0 0 0 0 0 0 0 0 0 0 0 0 0 0 0]\n",
      " [0 0 0 0 0 0 0 0 0 0 0 0 0 0 0 0 0 0 0 0 0 0 0 0 0 0 0 0]\n",
      " [0 0 0 0 0 0 0 0 0 0 0 0 0 0 0 0 0 0 0 0 0 0 0 0 0 0 0 0]]\n"
     ]
    }
   ],
   "source": [
    "train=reverseBlackWhite(train)\n",
    "test=reverseBlackWhite(test)\n",
    "print(train[0])"
   ]
  },
  {
   "cell_type": "code",
   "execution_count": 12,
   "id": "0420198d",
   "metadata": {},
   "outputs": [
    {
     "data": {
      "text/plain": [
       "array([[[0, 0, 0, 0, 0, 0, 0],\n",
       "        [0, 0, 0, 0, 0, 0, 0],\n",
       "        [0, 0, 0, 0, 0, 0, 0],\n",
       "        [0, 0, 0, 0, 0, 0, 0],\n",
       "        [0, 0, 0, 0, 0, 0, 0],\n",
       "        [0, 0, 0, 0, 0, 0, 0],\n",
       "        [0, 0, 0, 0, 0, 0, 0]],\n",
       "\n",
       "       [[0, 0, 0, 0, 0, 0, 0],\n",
       "        [0, 0, 0, 0, 0, 0, 0],\n",
       "        [0, 0, 0, 0, 0, 0, 0],\n",
       "        [0, 0, 0, 0, 0, 0, 0],\n",
       "        [0, 0, 0, 0, 0, 0, 0],\n",
       "        [0, 0, 0, 0, 0, 0, 0],\n",
       "        [0, 0, 0, 0, 1, 1, 1]],\n",
       "\n",
       "       [[0, 0, 0, 0, 0, 0, 0],\n",
       "        [0, 0, 0, 0, 0, 0, 0],\n",
       "        [0, 0, 0, 0, 0, 0, 0],\n",
       "        [0, 0, 0, 0, 0, 0, 0],\n",
       "        [0, 0, 0, 0, 0, 0, 0],\n",
       "        [0, 0, 0, 1, 1, 0, 1],\n",
       "        [1, 1, 1, 1, 1, 1, 1]],\n",
       "\n",
       "       [[0, 0, 0, 0, 0, 0, 0],\n",
       "        [0, 0, 0, 0, 0, 0, 0],\n",
       "        [0, 0, 0, 0, 0, 0, 0],\n",
       "        [0, 0, 0, 0, 0, 0, 0],\n",
       "        [0, 0, 0, 0, 0, 0, 0],\n",
       "        [1, 1, 1, 0, 0, 0, 0],\n",
       "        [1, 1, 0, 0, 0, 0, 0]],\n",
       "\n",
       "       [[0, 0, 0, 0, 0, 0, 0],\n",
       "        [0, 0, 0, 0, 0, 0, 0],\n",
       "        [0, 0, 0, 0, 0, 0, 0],\n",
       "        [0, 0, 0, 0, 0, 0, 0],\n",
       "        [0, 0, 0, 0, 0, 0, 0],\n",
       "        [0, 0, 0, 0, 0, 0, 0],\n",
       "        [0, 0, 0, 0, 0, 0, 0]],\n",
       "\n",
       "       [[0, 1, 1, 1, 1, 1, 1],\n",
       "        [0, 1, 1, 1, 1, 1, 1],\n",
       "        [0, 0, 1, 0, 1, 1, 1],\n",
       "        [0, 0, 0, 0, 1, 1, 0],\n",
       "        [0, 0, 0, 0, 1, 1, 1],\n",
       "        [0, 0, 0, 0, 0, 1, 1],\n",
       "        [0, 0, 0, 0, 0, 0, 1]],\n",
       "\n",
       "       [[1, 1, 1, 1, 0, 0, 0],\n",
       "        [1, 1, 1, 1, 0, 0, 0],\n",
       "        [0, 0, 0, 1, 0, 0, 0],\n",
       "        [0, 0, 0, 0, 0, 0, 0],\n",
       "        [0, 0, 0, 0, 0, 0, 0],\n",
       "        [0, 0, 0, 0, 0, 0, 0],\n",
       "        [1, 1, 0, 0, 0, 0, 0]],\n",
       "\n",
       "       [[0, 0, 0, 0, 0, 0, 0],\n",
       "        [0, 0, 0, 0, 0, 0, 0],\n",
       "        [0, 0, 0, 0, 0, 0, 0],\n",
       "        [0, 0, 0, 0, 0, 0, 0],\n",
       "        [0, 0, 0, 0, 0, 0, 0],\n",
       "        [0, 0, 0, 0, 0, 0, 0],\n",
       "        [0, 0, 0, 0, 0, 0, 0]],\n",
       "\n",
       "       [[0, 0, 0, 0, 0, 0, 0],\n",
       "        [0, 0, 0, 0, 0, 0, 0],\n",
       "        [0, 0, 0, 0, 0, 0, 0],\n",
       "        [0, 0, 0, 0, 0, 0, 0],\n",
       "        [0, 0, 0, 0, 0, 0, 0],\n",
       "        [0, 0, 0, 0, 0, 0, 0],\n",
       "        [0, 0, 0, 0, 0, 0, 0]],\n",
       "\n",
       "       [[0, 0, 0, 0, 0, 0, 0],\n",
       "        [0, 0, 0, 0, 0, 0, 0],\n",
       "        [0, 0, 0, 0, 0, 0, 0],\n",
       "        [0, 0, 0, 0, 0, 0, 0],\n",
       "        [0, 0, 0, 0, 0, 0, 0],\n",
       "        [0, 0, 0, 0, 0, 0, 1],\n",
       "        [0, 0, 0, 0, 0, 1, 1]],\n",
       "\n",
       "       [[1, 1, 1, 0, 0, 0, 0],\n",
       "        [0, 1, 1, 1, 1, 0, 0],\n",
       "        [0, 0, 0, 1, 1, 1, 0],\n",
       "        [0, 0, 0, 1, 1, 1, 0],\n",
       "        [0, 1, 1, 1, 1, 1, 0],\n",
       "        [1, 1, 1, 1, 1, 1, 0],\n",
       "        [1, 1, 1, 1, 0, 0, 0]],\n",
       "\n",
       "       [[0, 0, 0, 0, 0, 0, 0],\n",
       "        [0, 0, 0, 0, 0, 0, 0],\n",
       "        [0, 0, 0, 0, 0, 0, 0],\n",
       "        [0, 0, 0, 0, 0, 0, 0],\n",
       "        [0, 0, 0, 0, 0, 0, 0],\n",
       "        [0, 0, 0, 0, 0, 0, 0],\n",
       "        [0, 0, 0, 0, 0, 0, 0]],\n",
       "\n",
       "       [[0, 0, 0, 0, 0, 0, 0],\n",
       "        [0, 0, 0, 0, 0, 0, 0],\n",
       "        [0, 0, 0, 0, 0, 1, 1],\n",
       "        [0, 0, 0, 0, 1, 1, 1],\n",
       "        [0, 0, 0, 0, 0, 0, 0],\n",
       "        [0, 0, 0, 0, 0, 0, 0],\n",
       "        [0, 0, 0, 0, 0, 0, 0]],\n",
       "\n",
       "       [[0, 0, 0, 1, 1, 1, 1],\n",
       "        [1, 1, 1, 1, 1, 1, 1],\n",
       "        [1, 1, 1, 1, 1, 1, 0],\n",
       "        [1, 1, 1, 1, 0, 0, 0],\n",
       "        [0, 0, 0, 0, 0, 0, 0],\n",
       "        [0, 0, 0, 0, 0, 0, 0],\n",
       "        [0, 0, 0, 0, 0, 0, 0]],\n",
       "\n",
       "       [[1, 1, 0, 0, 0, 0, 0],\n",
       "        [0, 0, 0, 0, 0, 0, 0],\n",
       "        [0, 0, 0, 0, 0, 0, 0],\n",
       "        [0, 0, 0, 0, 0, 0, 0],\n",
       "        [0, 0, 0, 0, 0, 0, 0],\n",
       "        [0, 0, 0, 0, 0, 0, 0],\n",
       "        [0, 0, 0, 0, 0, 0, 0]],\n",
       "\n",
       "       [[0, 0, 0, 0, 0, 0, 0],\n",
       "        [0, 0, 0, 0, 0, 0, 0],\n",
       "        [0, 0, 0, 0, 0, 0, 0],\n",
       "        [0, 0, 0, 0, 0, 0, 0],\n",
       "        [0, 0, 0, 0, 0, 0, 0],\n",
       "        [0, 0, 0, 0, 0, 0, 0],\n",
       "        [0, 0, 0, 0, 0, 0, 0]]])"
      ]
     },
     "execution_count": 12,
     "metadata": {},
     "output_type": "execute_result"
    }
   ],
   "source": [
    "train=extractSubMatrix(train)\n",
    "test=extractSubMatrix(test)\n",
    "train[0]"
   ]
  },
  {
   "cell_type": "code",
   "execution_count": 13,
   "id": "eb906c83",
   "metadata": {},
   "outputs": [],
   "source": [
    "new_X_train=imageToVector(train)\n",
    "new_X_test=imageToVector(test)\n",
    "Y_train=Y_train.reshape(len(Y_train),1)\n",
    "Y_test=Y_test.reshape(len(Y_test),1)"
   ]
  },
  {
   "cell_type": "markdown",
   "id": "6ef24e05",
   "metadata": {},
   "source": [
    "Display the dimensions after the treatments."
   ]
  },
  {
   "cell_type": "code",
   "execution_count": 14,
   "id": "83f02526",
   "metadata": {},
   "outputs": [
    {
     "name": "stdout",
     "output_type": "stream",
     "text": [
      "shape of x_train (60000, 16)\n",
      "shape of Y_train (60000, 1)\n",
      "shape of X_test (10000, 16)\n",
      "shape of Y_test (10000, 1)\n"
     ]
    }
   ],
   "source": [
    "print(\"shape of x_train\",new_X_train.shape)\n",
    "print(\"shape of Y_train\",Y_train.shape)\n",
    "print(\"shape of X_test\",new_X_test.shape)\n",
    "print(\"shape of Y_test\",Y_test.shape)"
   ]
  },
  {
   "cell_type": "code",
   "execution_count": 15,
   "id": "b095072c",
   "metadata": {},
   "outputs": [
    {
     "data": {
      "text/plain": [
       "array([0.        , 0.06122449, 0.20408163, 0.10204082, 0.        ,\n",
       "       0.48979592, 0.2244898 , 0.        , 0.        , 0.06122449,\n",
       "       0.57142857, 0.        , 0.10204082, 0.42857143, 0.04081633,\n",
       "       0.        ])"
      ]
     },
     "execution_count": 15,
     "metadata": {},
     "output_type": "execute_result"
    }
   ],
   "source": [
    "new_X_train[0]"
   ]
  },
  {
   "cell_type": "code",
   "execution_count": 16,
   "id": "3f6271cd",
   "metadata": {},
   "outputs": [
    {
     "data": {
      "text/plain": [
       "array([0.        , 0.        , 0.        , 0.        , 0.02040816,\n",
       "       0.28571429, 0.46938776, 0.02040816, 0.        , 0.02040816,\n",
       "       0.32653061, 0.        , 0.        , 0.28571429, 0.02040816,\n",
       "       0.        ])"
      ]
     },
     "execution_count": 16,
     "metadata": {},
     "output_type": "execute_result"
    }
   ],
   "source": [
    "new_X_test[0]"
   ]
  },
  {
   "cell_type": "markdown",
   "id": "f375bee5",
   "metadata": {},
   "source": [
    "# Model"
   ]
  },
  {
   "cell_type": "code",
   "execution_count": 17,
   "id": "4b28ddce",
   "metadata": {},
   "outputs": [],
   "source": [
    "model=keras.Sequential([\n",
    "    keras.layers.Flatten(input_shape=(16,)),\n",
    "    keras.layers.Dense(512,activation='relu'),\n",
    "    keras.layers.Dense(250,activation='relu'),\n",
    "    keras.layers.Dense(1,activation='sigmoid')\n",
    "])"
   ]
  },
  {
   "cell_type": "code",
   "execution_count": 18,
   "id": "a896d6ae",
   "metadata": {},
   "outputs": [
    {
     "name": "stdout",
     "output_type": "stream",
     "text": [
      "Model: \"sequential\"\n",
      "_________________________________________________________________\n",
      " Layer (type)                Output Shape              Param #   \n",
      "=================================================================\n",
      " flatten (Flatten)           (None, 16)                0         \n",
      "                                                                 \n",
      " dense (Dense)               (None, 512)               8704      \n",
      "                                                                 \n",
      " dense_1 (Dense)             (None, 250)               128250    \n",
      "                                                                 \n",
      " dense_2 (Dense)             (None, 1)                 251       \n",
      "                                                                 \n",
      "=================================================================\n",
      "Total params: 137,205\n",
      "Trainable params: 137,205\n",
      "Non-trainable params: 0\n",
      "_________________________________________________________________\n"
     ]
    }
   ],
   "source": [
    "model.summary()"
   ]
  },
  {
   "cell_type": "code",
   "execution_count": 19,
   "id": "c1532d58",
   "metadata": {},
   "outputs": [],
   "source": [
    "model.compile(\n",
    "    loss=\"binary_crossentropy\",\n",
    "    optimizer=\"adam\",\n",
    "    metrics=[\"accuracy\"]\n",
    ")"
   ]
  },
  {
   "cell_type": "code",
   "execution_count": 20,
   "id": "3460c5b6",
   "metadata": {},
   "outputs": [
    {
     "name": "stdout",
     "output_type": "stream",
     "text": [
      "Epoch 1/5\n",
      "1875/1875 [==============================] - 3s 2ms/step - loss: 0.1057 - accuracy: 0.9652\n",
      "Epoch 2/5\n",
      "1875/1875 [==============================] - 3s 1ms/step - loss: 0.0716 - accuracy: 0.9757\n",
      "Epoch 3/5\n",
      "1875/1875 [==============================] - 3s 1ms/step - loss: 0.0653 - accuracy: 0.9782\n",
      "Epoch 4/5\n",
      "1875/1875 [==============================] - 3s 1ms/step - loss: 0.0624 - accuracy: 0.9792\n",
      "Epoch 5/5\n",
      "1875/1875 [==============================] - 3s 1ms/step - loss: 0.0609 - accuracy: 0.9789\n"
     ]
    },
    {
     "data": {
      "text/plain": [
       "<keras.callbacks.History at 0x256b321b790>"
      ]
     },
     "execution_count": 20,
     "metadata": {},
     "output_type": "execute_result"
    }
   ],
   "source": [
    "model.fit(new_X_train,Y_train,epochs=5)"
   ]
  },
  {
   "cell_type": "markdown",
   "id": "cb79b9e3",
   "metadata": {},
   "source": [
    "evaluer le modele pour le pourcentage de reussite et de perte en utilisant X et Y de test"
   ]
  },
  {
   "cell_type": "code",
   "execution_count": 21,
   "id": "78d7f77c",
   "metadata": {},
   "outputs": [
    {
     "name": "stdout",
     "output_type": "stream",
     "text": [
      "313/313 [==============================] - 0s 892us/step - loss: 0.0655 - accuracy: 0.9778\n"
     ]
    },
    {
     "data": {
      "text/plain": [
       "[0.0654883161187172, 0.9778000116348267]"
      ]
     },
     "execution_count": 21,
     "metadata": {},
     "output_type": "execute_result"
    }
   ],
   "source": [
    "model.evaluate(new_X_test,Y_test)"
   ]
  },
  {
   "cell_type": "markdown",
   "id": "fcc08680",
   "metadata": {},
   "source": [
    "# Prediction\n",
    "Choose a random number.\n",
    "Represent it graphically.\n",
    "Predict the number.\n",
    "If the result > 0.5, display \"it's a number.\"\n",
    "If not, display \"it's not a number.\""
   ]
  },
  {
   "cell_type": "code",
   "execution_count": 22,
   "id": "310f6f45",
   "metadata": {},
   "outputs": [
    {
     "data": {
      "image/png": "[encoded data removed]",
      "text/plain": [
       "<Figure size 640x480 with 1 Axes>"
      ]
     },
     "metadata": {},
     "output_type": "display_data"
    },
    {
     "name": "stdout",
     "output_type": "stream",
     "text": [
      "313/313 [==============================] - 0s 773us/step\n",
      "[0.04831472]\n",
      "it's not a number 2\n"
     ]
    }
   ],
   "source": [
    "index=rnd.randint(0,len(new_X_test)-1)\n",
    "\n",
    "#pour teste la preiction sur le nombre 5\n",
    "#index=15\n",
    "\n",
    "#pour teste la prediction sur le number 2\n",
    "#index=1\n",
    "\n",
    "plt.imshow(X_test[index])\n",
    "plt.show()\n",
    "\n",
    "predictions=model.predict(new_X_test)\n",
    "y=predictions[index]\n",
    "print(y)\n",
    "\n",
    "if y>0.5:\n",
    "    print(\"it's a number \"+str(number))\n",
    "else:\n",
    "    print(\"it's not a number \"+str(number))"
   ]
  }
 ],
 "metadata": {
  "kernelspec": {
   "display_name": "Python 3",
   "language": "python",
   "name": "python3"
  },
  "language_info": {
   "codemirror_mode": {
    "name": "ipython",
    "version": 3
   },
   "file_extension": ".py",
   "mimetype": "text/x-python",
   "name": "python",
   "nbconvert_exporter": "python",
   "pygments_lexer": "ipython3",
   "version": "3.11.1"
  },
  "vscode": {
   "interpreter": {
    "hash": "2370da8bbbee23b91c8b7a19b6d0ff6dea912d3d503c43abea3423212c6b984a"
   }
  }
 },
 "nbformat": 4,
 "nbformat_minor": 5
}
